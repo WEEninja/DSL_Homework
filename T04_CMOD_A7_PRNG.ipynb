{
  "nbformat": 4,
  "nbformat_minor": 0,
  "metadata": {
    "colab": {
      "provenance": [],
      "authorship_tag": "ABX9TyPacCWrZhYwHYW3Nhio817l",
      "include_colab_link": true
    },
    "kernelspec": {
      "name": "python3",
      "display_name": "Python 3"
    },
    "language_info": {
      "name": "python"
    }
  },
  "cells": [
    {
      "cell_type": "markdown",
      "metadata": {
        "id": "view-in-github",
        "colab_type": "text"
      },
      "source": [
        "<a href=\"https://colab.research.google.com/github/WEEninja/DSL_Homework/blob/main/T04_CMOD_A7_PRNG.ipynb\" target=\"_parent\"><img src=\"https://colab.research.google.com/assets/colab-badge.svg\" alt=\"Open In Colab\"/></a>"
      ]
    },
    {
      "cell_type": "code",
      "execution_count": null,
      "metadata": {
        "id": "XjL211I9T6CN"
      },
      "outputs": [],
      "source": [
        "!pip install git+https://github.com/pe8sutd/eda4u &> /dev/null\n",
        "!git clone https://github.com/pe8sutd/eda4u &> /dev/null\n",
        "%load_ext plugin"
      ]
    },
    {
      "cell_type": "markdown",
      "source": [
        "# Design steps:"
      ],
      "metadata": {
        "id": "04qW7EohVJIE"
      }
    },
    {
      "cell_type": "markdown",
      "source": [
        "# Code Breakdown"
      ],
      "metadata": {
        "id": "XaUl0AEPVBQW"
      }
    },
    {
      "cell_type": "markdown",
      "source": [
        "Top Module"
      ],
      "metadata": {
        "id": "I1gRE5gTVNzC"
      }
    },
    {
      "cell_type": "code",
      "source": [
        "module top_module(\n",
        "    input sysclk,\n",
        "    input [1:0] btn,\n",
        "    output pio37,\n",
        "    output pio38,\n",
        "    output pio39,\n",
        "    output pio40,\n",
        "    output pio41,\n",
        "    output pio42,\n",
        "    output pio43,\n",
        "    output pio44,\n",
        "    output pio45,\n",
        "    output pio46,\n",
        "    output pio47,\n",
        "    output pio48,\n",
        "    output [1:0] led,\n",
        "    output adc_din,\n",
        "    output adc_clk,\n",
        "    output adc_csn,\n",
        "    input  adc_dout,\n",
        "    output uart_rxd_out\n",
        ");\n",
        "\n",
        "//==== RESET ====\n",
        "wire rstn;\n",
        "assign rstn = ~btn[1];\n",
        "\n",
        "//==== CLOCKS ====\n",
        "wire CLK500Hz, CLK1Hz, CLK_ADC, CLK_UART, CLK2Hz;\n",
        "\n",
        "clock_div clk_div_u1(rstn, sysclk, CLK500Hz);\n",
        "clock_div clk_div_u2(rstn, CLK500Hz, CLK1Hz);\n",
        "clock_div clk_div_u3(rstn, sysclk, CLK_ADC);\n",
        "clock_div clk_div_u4(rstn, sysclk, CLK_UART);\n",
        "clock_div clk_div_u5(rstn, sysclk, CLK2Hz);\n",
        "\n",
        "defparam clk_div_u1.FREQ_INPUT  = 12_000_000;\n",
        "defparam clk_div_u1.FREQ_OUTPUT = 500;\n",
        "defparam clk_div_u2.FREQ_INPUT  = 500;\n",
        "defparam clk_div_u2.FREQ_OUTPUT = 1;\n",
        "defparam clk_div_u3.FREQ_INPUT  = 12_000_000;\n",
        "defparam clk_div_u3.FREQ_OUTPUT = 2_000_000;\n",
        "defparam clk_div_u4.FREQ_INPUT  = 12_000_000;\n",
        "defparam clk_div_u4.FREQ_OUTPUT = 9600;\n",
        "defparam clk_div_u5.FREQ_INPUT  = 12_000_000;\n",
        "defparam clk_div_u5.FREQ_OUTPUT = 2;\n",
        "\n",
        "//==== 7-SEGMENT DISPLAY ====\n",
        "reg [15:0] Segment_data;\n",
        "drv_segment segment_u0(\n",
        "    .rstn(rstn),\n",
        "    .clk(CLK500Hz),\n",
        "    .data(Segment_data),  // FIXED: pass full 16-bit random value\n",
        "    .sel({pio43, pio46, pio47, pio37}),\n",
        "    .seg({pio40, pio38, pio45, pio42, pio41, pio39, pio48, pio44})\n",
        ");\n",
        "\n",
        "//==== ADC CONFIG ====\n",
        "localparam SINGLE_CHAN0 = 2'b10;\n",
        "\n",
        "reg adc_ready;\n",
        "wire adc_vaild;\n",
        "wire [11:0] adc_data;\n",
        "\n",
        "drv_mcp3202 drv_mcp3202_u0(\n",
        "    .rstn(rstn),\n",
        "    .clk(CLK_ADC),\n",
        "    .ap_ready(adc_ready),\n",
        "    .ap_vaild(adc_vaild),\n",
        "    .mode(SINGLE_CHAN0),\n",
        "    .data(adc_data),\n",
        "    .port_din(adc_dout),\n",
        "    .port_dout(adc_din),\n",
        "    .port_clk(adc_clk),\n",
        "    .port_cs(adc_csn)\n",
        ");\n",
        "\n",
        "//==== PRNG CONFIG ====\n",
        "reg [15:0] rand_seed;\n",
        "wire [15:0] rand_value;\n",
        "reg load_seed;\n",
        "\n",
        "prng_lfsr prng_u0(\n",
        "    .clk(CLK1Hz),\n",
        "    .rstn(rstn),\n",
        "    .load_seed(load_seed),\n",
        "    .seed(rand_seed),\n",
        "    .rand_out(rand_value)\n",
        ");\n",
        "\n",
        "//==== SEED FROM ADC ====\n",
        "always @(negedge rstn or posedge adc_vaild) begin\n",
        "    if (!rstn) begin\n",
        "        adc_ready <= 1'b0;\n",
        "        Segment_data <= 16'h0000;\n",
        "        rand_seed <= 16'h0000;\n",
        "        load_seed <= 1'b1;\n",
        "    end else if (adc_vaild) begin\n",
        "        rand_seed <= {adc_data, 4'b0000};  // Extend ADC to 16-bit\n",
        "        load_seed <= 1'b1;\n",
        "        adc_ready <= 1'b0;\n",
        "    end else begin\n",
        "        adc_ready <= 1'b1;\n",
        "        load_seed <= 1'b0;\n",
        "    end\n",
        "end\n",
        "\n",
        "//==== UPDATE DISPLAY WITH PRNG ====\n",
        "always @(posedge CLK1Hz or negedge rstn) begin\n",
        "    if (!rstn)\n",
        "        Segment_data <= 16'h0000;\n",
        "    else\n",
        "        Segment_data <= rand_value;\n",
        "end\n",
        "\n",
        "//==== UART DEBUG OUTPUT ====\n",
        "reg uart_ready;\n",
        "wire uart_vaild;\n",
        "reg [7:0] uart_data;\n",
        "reg hl_sel;\n",
        "\n",
        "drv_uart_tx drv_uart_u0(\n",
        "    .clk(CLK_UART),\n",
        "    .ap_rstn(rstn),\n",
        "    .ap_ready(uart_ready),\n",
        "    .ap_vaild(uart_vaild),\n",
        "    .tx(uart_rxd_out),\n",
        "    .pairty(1'b0),\n",
        "    .data(uart_data)\n",
        ");\n",
        "\n",
        "always @(negedge rstn or posedge uart_vaild or negedge CLK2Hz) begin\n",
        "    if (!rstn) begin\n",
        "        uart_ready <= 1'b0;\n",
        "        hl_sel <= 1'b0;\n",
        "    end else begin\n",
        "        if (uart_vaild) begin\n",
        "            uart_data <= (hl_sel) ? Segment_data[15:8] : Segment_data[7:0];\n",
        "            uart_ready <= 1'b0;\n",
        "        end else begin\n",
        "            uart_ready <= 1'b1;\n",
        "            hl_sel <= ~hl_sel;\n",
        "        end\n",
        "    end\n",
        "end\n",
        "\n",
        "endmodule\n"
      ],
      "metadata": {
        "id": "TgH41RdEVsDG"
      },
      "execution_count": null,
      "outputs": []
    },
    {
      "cell_type": "markdown",
      "source": [
        "prng_lfsr"
      ],
      "metadata": {
        "id": "-CR1LrpoV0og"
      }
    },
    {
      "cell_type": "code",
      "source": [
        "module prng_lfsr(\n",
        "    input clk,\n",
        "    input rstn,\n",
        "    input load_seed,\n",
        "    input [15:0] seed,\n",
        "    output reg [15:0] rand_out\n",
        ");\n",
        "    reg [15:0] lfsr;\n",
        "\n",
        "    always @(posedge clk or negedge rstn) begin\n",
        "        if (!rstn)\n",
        "            lfsr <= 16'hACE1;  // fallback seed\n",
        "        else if (load_seed)\n",
        "            lfsr <= seed;\n",
        "        else\n",
        "            // taps for maximal 16-bit LFSR: 16,14,13,11\n",
        "            lfsr <= {lfsr[14:0], lfsr[15] ^ lfsr[13] ^ lfsr[12] ^ lfsr[10]};\n",
        "    end\n",
        "\n",
        "    always @(*) begin\n",
        "        rand_out = lfsr;\n",
        "    end\n",
        "endmodule\n",
        "\n",
        "\n",
        "    always @(*) begin\n",
        "        rand_out = lfsr;\n",
        "    end"
      ],
      "metadata": {
        "id": "y8N-WTtAV9Yv"
      },
      "execution_count": null,
      "outputs": []
    },
    {
      "cell_type": "markdown",
      "source": [
        "# Video"
      ],
      "metadata": {
        "id": "MNbf5IRMW7w4"
      }
    },
    {
      "cell_type": "markdown",
      "source": [
        "#Challenges"
      ],
      "metadata": {
        "id": "_NPkzX2vW_Yx"
      }
    }
  ]
}